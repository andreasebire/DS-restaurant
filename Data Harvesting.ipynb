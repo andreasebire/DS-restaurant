{
 "cells": [
  {
   "cell_type": "markdown",
   "metadata": {},
   "source": [
    "# 1.Introduction & Business Problem :\n",
    "Problem Background:\n",
    "Today the Business case is represented by Mr.A who wants to open a restaurant in a Business Center close to his home and that he knows well- Val de Fontenay, France. The Business Center size and population is currently increasing  and Mr A thinks there is way of using this to his advantage to open a restaurant. But Mr.A has no experience in the restaurant business and wants to know which type of restaurants he should open.\n",
    "\n",
    "To sum up : \"What restaurant should I open in Val de Fontenay Business Center?\"\n",
    "\n",
    "# 2.Methodology and Data selection\n",
    "There are multiple ways of answering this question. Let's try to settle down our hypothesis:\n",
    "- Each Business Center need for restaurant is similar\n",
    "- The part of covers from each business center for lunch are similar\n",
    "- The restaurants that will be serving covers to workers are located within a 500-600 m radius from BC center\n",
    "\n",
    "\n",
    "\n",
    "## Need:In order to know which restaurant should be opened we must know:\n",
    "1. What is the typical distribution of Restaurant category in Business Centers (Fast food 30%, Pizza 12%, Sushi 3%,..)\n",
    "2. What is the distribution of the BC : Val de Fontenay\n",
    "3. Are the restaurants profitable ? Are they Appreciated by the custommers\n",
    "\n",
    "## Data: \n",
    "1. Find a group of Business Center similar to Val de Fontenay in size : [Business Centers List](https://fr.wikipedia.org/wiki/Centre_d%27affaires)\n",
    "1. Retrieve all restaurants and classify by category for every Business Center \n",
    "2. Sort the distribution of Val de Fontenay\n",
    "3. Use the Like and Rating in order to evaluate the potential success of a category ( a lot of a certain type does not mean it is working properly)\n",
    "\n",
    "NB: \n",
    "As foursquare is applying limitation of 50 rating, it will be impossible to retreive all ratings for all venues.\n",
    "You will also notice that the amout of like is really poor on all restaurants, we can assume that foursquare is not very popular in france and it is the reason why we lack information. I am not yet certain to use the likes as it might not be accurate due to that. \n"
   ]
  },
  {
   "cell_type": "code",
   "execution_count": 19,
   "metadata": {},
   "outputs": [
    {
     "name": "stdout",
     "output_type": "stream",
     "text": [
      "Collecting package metadata (current_repodata.json): ...working... done\n",
      "Solving environment: ...working... done\n",
      "\n",
      "# All requested packages already installed.\n",
      "\n",
      "Geopy installed and imported!\n"
     ]
    }
   ],
   "source": [
    "!conda install -c conda-forge geopy --yes\n",
    "print('Geopy installed and imported!')\n",
    "#!conda install -c conda-forge folium=0.5.0 --yes\n",
    "#print('Folium installed and imported!')"
   ]
  },
  {
   "cell_type": "code",
   "execution_count": 2,
   "metadata": {},
   "outputs": [],
   "source": [
    "import folium\n",
    "from pandas.io.json import json_normalize\n",
    "import requests\n",
    "import pandas as pd"
   ]
  },
  {
   "cell_type": "markdown",
   "metadata": {},
   "source": [
    "## Data: \n",
    "### 1. Long Lat of Business Centers\n",
    "Retrive Long and Lat of every Business Center using geopy, it will be needed in our research of venues in foursquare\n"
   ]
  },
  {
   "cell_type": "code",
   "execution_count": 3,
   "metadata": {},
   "outputs": [
    {
     "name": "stdout",
     "output_type": "stream",
     "text": [
      "The geograpical coordinate of Grenoble Europole are 45.1913071, 5.7141017.\n",
      "The geograpical coordinate of Saint-Étienne Châteaucreux are 45.4433433, 4.3994367.\n",
      "The geograpical coordinate of Mériadeck are 44.8373835, -0.5856761.\n",
      "The geograpical coordinate of Innopole FR are 43.5474999, 1.5128101.\n",
      "The geograpical coordinate of Noveos FR are 48.7776375, 2.2435049239067535.\n",
      "The geograpical coordinate of Pleyel Saint Denis are 48.9198176, 2.3450792.\n",
      "The geograpical coordinate of Parc Icade de Rungis are 48.7404828, 2.3529205.\n",
      "The geograpical coordinate of Nanterre Champs Pierreux are 48.8862592, 2.2140557.\n",
      "The geograpical coordinate of Les Bruyères Courbevoie are 48.905991, 2.267961.\n",
      "The geograpical coordinate of Boulogne Billancourt Rives de Seine are 48.8275939, 2.2371424659235677.\n",
      "The geograpical coordinate of EuroRennes are 48.10130795, -1.6760404045831545.\n",
      "The geograpical coordinate of Val de Fontenay, FR are 48.8564387, 2.4802895.\n"
     ]
    },
    {
     "data": {
      "text/plain": [
       "{'Grenoble Europole': 205000,\n",
       " 'Saint-Étienne Châteaucreux': 250000,\n",
       " 'Mériadeck': 270000,\n",
       " 'Innopole FR': 280000,\n",
       " 'Noveos FR': 250000,\n",
       " 'Pleyel Saint Denis': 250000,\n",
       " 'Parc Icade de Rungis': 250000,\n",
       " 'Nanterre Champs Pierreux': 250000,\n",
       " 'Les Bruyères Courbevoie': 300000,\n",
       " 'Boulogne Billancourt Rives de Seine': 300000,\n",
       " 'EuroRennes': 300000}"
      ]
     },
     "execution_count": 3,
     "metadata": {},
     "output_type": "execute_result"
    }
   ],
   "source": [
    "import time\n",
    "from geopy.geocoders import Nominatim \n",
    "address=['Grenoble Europole',\n",
    "          'Saint-Étienne Châteaucreux',\n",
    "          'Mériadeck',\n",
    "          'Innopole FR',\n",
    "          'Noveos FR',\n",
    "          'Pleyel Saint Denis',\n",
    "          \"Parc Icade de Rungis\",\n",
    "          \"Nanterre Champs Pierreux\",\n",
    "          \"Les Bruyères Courbevoie\",\n",
    "          'Boulogne Billancourt Rives de Seine',\n",
    "          'EuroRennes',\n",
    "          'Val de Fontenay, FR']\n",
    "\n",
    "address_m2=[205000,\n",
    "            250000,\n",
    "            270000,\n",
    "            280000,\n",
    "            250000,\n",
    "            250000,\n",
    "            250000,\n",
    "            250000,\n",
    "            300000,\n",
    "            300000,\n",
    "            300000]\n",
    "address_dict={x:y for x,y in zip(address, address_m2)}\n",
    "\n",
    "latitude=[]\n",
    "longitude=[]\n",
    "geolocator = Nominatim(user_agent=\"Jupyter\")\n",
    "\n",
    "def getLatLongList(address_list,latitude,longitude):\n",
    "    for i in range(len(address_list)):\n",
    "        lat,lng=getLatLong(address[i])\n",
    "        latitude.append(lat)\n",
    "        longitude.append(lng)\n",
    "    return(latitude,longitude)\n",
    "\n",
    "def getLatLong(address):\n",
    "    location = geolocator.geocode(address)\n",
    "    lat=location.latitude\n",
    "    lng=location.longitude\n",
    "    print('The geograpical coordinate of {} are {}, {}.'.format(address,lat, lng))\n",
    "    return(lat,lng)\n",
    "\n",
    "getLatLongList(address,latitude,longitude)\n",
    "address_dict"
   ]
  },
  {
   "cell_type": "markdown",
   "metadata": {},
   "source": [
    "#### import foursquare credentials"
   ]
  },
  {
   "cell_type": "code",
   "execution_count": 16,
   "metadata": {},
   "outputs": [],
   "source": [
    "import json\n",
    "with open('creds.json') as f:\n",
    "    data = json.load(f)\n",
    "    CLIENT_ID = data['id']\n",
    "    CLIENT_SECRET = data['secret']\n",
    "VERSION = '20200118' # Foursquare API version"
   ]
  },
  {
   "cell_type": "markdown",
   "metadata": {},
   "source": [
    "## Data : \n",
    "### 2. Get all restaurants category \n",
    "In order to retrieve more than 50 venues by call for more precision visit [foursquare](https://developer.foursquare.com/docs/resources/categories)"
   ]
  },
  {
   "cell_type": "code",
   "execution_count": 24,
   "metadata": {},
   "outputs": [
    {
     "data": {
      "text/plain": [
       "['503288ae91d4c4b30a586d67',\n",
       " '4bf58dd8d48988d1c8941735',\n",
       " '4bf58dd8d48988d14e941735',\n",
       " '4bf58dd8d48988d142941735',\n",
       " '4bf58dd8d48988d169941735']"
      ]
     },
     "execution_count": 24,
     "metadata": {},
     "output_type": "execute_result"
    }
   ],
   "source": [
    "# create the API request URL\n",
    "url2 = 'https://api.foursquare.com/v2/venues/categories?&client_id={}&client_secret={}&v={}'.format(\n",
    "    CLIENT_ID, \n",
    "    CLIENT_SECRET, \n",
    "    VERSION,\n",
    ")\n",
    "\n",
    "# make the GET request\n",
    "results = requests.get(url2).json()['response']['categories']\n",
    "df_results = json_normalize(results)\n",
    "\n",
    "categories = []\n",
    "i=0\n",
    "for item in results:\n",
    "    if(item.get('name')=='Food'):\n",
    "        for i in range(92):\n",
    "            if (item['categories'][i] == '4bf58dd8d48988d14c941735'):\n",
    "                break\n",
    "            else:\n",
    "                categories.append(item['categories'][i]['id'])\n",
    "categories[:5]"
   ]
  },
  {
   "cell_type": "markdown",
   "metadata": {},
   "source": [
    "## Data:\n",
    "### 3. Get the Restaurant \n",
    "This is our function that retrieves a max of LIMIT=50 venues for each **categories list previously created** in a radius of 500m from [long,lat] position "
   ]
  },
  {
   "cell_type": "code",
   "execution_count": 8,
   "metadata": {},
   "outputs": [],
   "source": [
    "def getVenuesCat(names, latitude, longitude,LIMIT=50, radius=500):\n",
    "    name,lat,lng = names,latitude, longitude\n",
    "    venues_list=[]    \n",
    "    venue_list=[]\n",
    "    for restaurant_category in categories:\n",
    "        # create the API request URL\n",
    "        url = 'https://api.foursquare.com/v2/venues/search?&client_id={}&client_secret={}&v={}&ll={},{}&radius={}&limit={}&categoryId={}'.format(\n",
    "            CLIENT_ID, \n",
    "            CLIENT_SECRET, \n",
    "            VERSION, \n",
    "            lat, \n",
    "            lng, \n",
    "            radius, \n",
    "            LIMIT,\n",
    "            restaurant_category,\n",
    "        )\n",
    "\n",
    "        # make the GET request\n",
    "        try:\n",
    "            results = requests.get(url).json()['response']['venues']\n",
    "            #print(results)\n",
    "            venues_list.append([(\n",
    "                name, \n",
    "                #lat, \n",
    "                #lng,\n",
    "                v['name'], \n",
    "                v['location']['lat'],\n",
    "                v['location']['lng'], \n",
    "                v['categories'][0]['name'],\n",
    "                v['id']) for v in results])\n",
    "        except:\n",
    "             print('No venues of this category')\n",
    "    \n",
    "    \n",
    "    nearby_venues = pd.DataFrame([item for venue_list in venues_list for item in venue_list])\n",
    "    nearby_venues.columns = ['Business Center', \n",
    "                      #'BC Latitude', \n",
    "                      #'BC Longitude', \n",
    "                      'Venue', \n",
    "                      'Venue Latitude', \n",
    "                      'Venue Longitude', \n",
    "                      'Venue Category',\n",
    "                    'Venue Id']            \n",
    "    return(nearby_venues)"
   ]
  },
  {
   "cell_type": "markdown",
   "metadata": {},
   "source": [
    "## Data:\n",
    "### 4. Get the like of all venues and store it in a excel .csv file for each Business Center"
   ]
  },
  {
   "cell_type": "code",
   "execution_count": 22,
   "metadata": {},
   "outputs": [],
   "source": [
    "def get_venues_likes(todo_list,client_id):\n",
    "    client_iterator=client_id\n",
    "    count=0\n",
    "    CLIENT_ID=CLIENT_LIST[client_iterator]\n",
    "    CLIENT_SECRET=SECRET_LIST[client_iterator]\n",
    "    for v in todo_list:\n",
    "        url_likes = 'https://api.foursquare.com/v2/venues/{}/likes?client_id={}&client_secret={}&v={}'.format(v, CLIENT_ID, CLIENT_SECRET, VERSION)\n",
    "        result_likes = requests.get(url_likes).json()\n",
    "        #print(\"\\n count: {}  client ID: {}\".format(count,CLIENT_ID))\n",
    "        count=count+1\n",
    "        if(count%450==449):\n",
    "            client_iterator=+1\n",
    "            CLIENT_ID=CLIENT_LIST[client_iterator]\n",
    "            CLIENT_SECRET=SECRET_LIST[client_iterator]  \n",
    "        \n",
    "        try:\n",
    "            likes.append(result_likes['response']['likes']['count'])\n",
    "            #print(result3['response']['likes']['count'])\n",
    "        except:\n",
    "            likes.append('NaN')\n",
    "            \n",
    "    print(\"Client iterator:{}\\n Count iterator {}\".format(client_iterator,count))\n",
    "\n",
    "def get_all_likes(address_list,client_id_iterator=0):\n",
    "    i=client_id_iterator\n",
    "    for address_items in address_list:\n",
    "        likes[:]=[]\n",
    "        lat,long=getLatLong(address_items)\n",
    "        try:\n",
    "            df_temp=getVenuesCat(address_items,lat,long,radius=500)\n",
    "            get_venues_likes(df_temp['Venue Id'],i)\n",
    "            df_temp['Venue Likes']=likes\n",
    "            df_temp.to_csv(\"business center venues/venues{}.csv\".format(address_items),encoding='utf-8', index=False)\n",
    "            #drop from the address_list : address_likes_todo -> allow to see the status of the \n",
    "            #address_list.drop(address)\n",
    "        except:\n",
    "            print('an error occured at address{}\\n Like_list : {}\\n Dataframe : df_temp').format(address_items,likes,df_temp)\n"
   ]
  },
  {
   "cell_type": "markdown",
   "metadata": {},
   "source": [
    "## Data : Collection completed\n",
    "Next 3 lines complete the data collection part you can **see the results in the git repo**. See you soon for Data Analysis"
   ]
  },
  {
   "cell_type": "code",
   "execution_count": 21,
   "metadata": {},
   "outputs": [
    {
     "name": "stdout",
     "output_type": "stream",
     "text": [
      "The geograpical coordinate of Mériadeck are 44.8373835, -0.5856761.\n"
     ]
    }
   ],
   "source": [
    "likes=[]\n",
    "address_todo=address\n",
    "get_all_likes(address_todo)"
   ]
  },
  {
   "cell_type": "code",
   "execution_count": null,
   "metadata": {},
   "outputs": [],
   "source": []
  },
  {
   "cell_type": "markdown",
   "metadata": {},
   "source": [
    "This work is working but limitation of API led me to exclude it "
   ]
  },
  {
   "cell_type": "code",
   "execution_count": 103,
   "metadata": {},
   "outputs": [],
   "source": [
    "def get_venues_ratings(todo_list,client_id):\n",
    "    client_iterator=client_id\n",
    "    count=0\n",
    "    CLIENT_ID=CLIENT_LIST[client_iterator]\n",
    "    CLIENT_SECRET=SECRET_LIST[client_iterator]\n",
    "    for v in todo_list:\n",
    "        url_ratings = 'https://api.foursquare.com/v2/venues/{}?client_id={}&client_secret={}&v={}'.format(v, CLIENT_ID, CLIENT_SECRET, VERSION)\n",
    "        result_ratings = requests.get(url_ratings).json()\n",
    "        #print(\"\\n count: {}  client ID: {}\".format(count,CLIENT_ID))\n",
    "        count=count+1\n",
    "        if(count%50==49):\n",
    "            client_iterator+=1\n",
    "            CLIENT_ID=CLIENT_LIST[client_iterator]\n",
    "            CLIENT_SECRET=SECRET_LIST[client_iterator]           \n",
    "        \n",
    "        try:\n",
    "            ratings.append(result_ratings['response']['venue']['rating'])\n",
    "            #print(result2['response']['venue']['rating'])\n",
    "        except:\n",
    "            ratings.append('No ratings')\n",
    "        try:\n",
    "            prices.append(result_ratings['response']['venue']['price']['tier'])\n",
    "        except:    \n",
    "            prices.append('0')#0 for no information \n",
    "            #print('This venue has not been rated yet. WHY? {}'.format(result2))\n",
    "    print(\"Client iterator:{}\\n Count iterator {}\".format(client_iterator,count))\n",
    "\n",
    "def get_all_ratings(address_list,client_id_iterator=0):\n",
    "    i=client_id_iterator\n",
    "    for address_items in address_list:\n",
    "        ratings[:]=[]\n",
    "        prices[:]=[]\n",
    "        i=i+1\n",
    "        lat,long=getLatLong(address_items)\n",
    "        try:\n",
    "            df_temp=pd.DataFrame()\n",
    "            df_temp=pd.read_csv(\"business center venues/venues{}.csv\".format(address_items),encoding='utf-8')\n",
    "            get_venues_ratings(df_temp['Venue Id'],i)\n",
    "            print(ratings)\n",
    "            print(df_temp)\n",
    "            df_temp['Venue Ratings']=ratings\n",
    "            df_temp.to_csv(\"business center venues/venues{}.csv\".format(address_items),encoding='utf-8', index=False)\n",
    "            #drop from the address_list : address_likes_todo -> allow to see the status of the \n",
    "            #address_list.drop(address)\n",
    "        except:\n",
    "            print('an error occured at address{}\\n Ratings_list : {}\\n Dataframe : df_temp').format(address_items,ratings)\n",
    "                "
   ]
  },
  {
   "cell_type": "code",
   "execution_count": 104,
   "metadata": {},
   "outputs": [],
   "source": [
    "ratings=[]\n",
    "prices=[]\n",
    "get_all_ratings(address_ratings)"
   ]
  }
 ],
 "metadata": {
  "kernelspec": {
   "display_name": "Python 3",
   "language": "python",
   "name": "python3"
  },
  "language_info": {
   "codemirror_mode": {
    "name": "ipython",
    "version": 3
   },
   "file_extension": ".py",
   "mimetype": "text/x-python",
   "name": "python",
   "nbconvert_exporter": "python",
   "pygments_lexer": "ipython3",
   "version": "3.7.4"
  }
 },
 "nbformat": 4,
 "nbformat_minor": 4
}
